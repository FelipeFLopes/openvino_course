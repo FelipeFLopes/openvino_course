{
 "cells": [
  {
   "cell_type": "markdown",
   "metadata": {},
   "source": [
    "# Uso de transfer-learning para dataset cat-vs-dogs"
   ]
  },
  {
   "cell_type": "markdown",
   "metadata": {
    "id": "XeCllzC77-P5"
   },
   "source": [
    "---\n",
    "\n",
    "\n",
    "A estrutura do dataset é a seguinte:\n",
    "```\n",
    "cats_and_dogs\n",
    "|__ train:\n",
    "    |______ cats: [cat.0.jpg, cat.1.jpg ...]\n",
    "    |______ dogs: [dog.0.jpg, dog.1.jpg ...]\n",
    "|__ validation:\n",
    "    |______ cats: [cat.2000.jpg, cat.2001.jpg ...]\n",
    "    |______ dogs: [dog.2000.jpg, dog.2001.jpg ...]\n",
    "|__ test: [1.jpg, 2.jpg ...]\n",
    "```\n"
   ]
  },
  {
   "cell_type": "code",
   "execution_count": null,
   "metadata": {
    "id": "la_Oz6oLlub6"
   },
   "outputs": [],
   "source": [
    "import os\n",
    "import requests\n",
    "\n",
    "import numpy as np\n",
    "import matplotlib.pyplot as plt\n",
    "import tensorflow as tf\n",
    "from tensorflow.keras.models import Sequential\n",
    "from tensorflow.keras.layers import Dense, Conv2D, Flatten, Dropout, MaxPooling2D\n",
    "from tensorflow.keras.preprocessing.image import ImageDataGenerator"
   ]
  },
  {
   "cell_type": "markdown",
   "metadata": {},
   "source": [
    "### Baixar zip"
   ]
  },
  {
   "cell_type": "code",
   "execution_count": null,
   "metadata": {},
   "outputs": [],
   "source": [
    "url = \"https://cdn.freecodecamp.org/project-data/cats-and-dogs/cats_and_dogs.zip\"\n",
    "r = requests.get(url, allow_redirects=True)\n",
    "\n",
    "try:\n",
    "    open('cats_vs_dogs.zip', 'wb').write(r.content)\n",
    "except Exception as e:\n",
    "    print(f\"Error {str(e)}\")"
   ]
  },
  {
   "cell_type": "code",
   "execution_count": null,
   "metadata": {
    "id": "jaF8r6aOl48C"
   },
   "outputs": [],
   "source": [
    "PATH = \"Dataset\"\n",
    "\n",
    "train_dir = os.path.join(PATH, 'train')\n",
    "validation_dir = os.path.join(PATH, 'validation')\n",
    "test_dir = os.path.join(PATH, 'test')\n",
    "\n",
    "# Get number of files in each directory. The train and validation directories\n",
    "# each have the subdirecories \"dogs\" and \"cats\".\n",
    "total_train = sum([len(files) for r, d, files in os.walk(train_dir)])\n",
    "total_val = sum([len(files) for r, d, files in os.walk(validation_dir)])\n",
    "total_test = len(os.listdir(test_dir))"
   ]
  },
  {
   "cell_type": "code",
   "execution_count": null,
   "metadata": {
    "id": "VnASnyr_JNcQ"
   },
   "outputs": [],
   "source": [
    "# Variables for pre-processing and training.\n",
    "batch_size = 128\n",
    "epochs = 1\n",
    "IMG_HEIGHT = 160\n",
    "IMG_WIDTH = 160"
   ]
  },
  {
   "cell_type": "code",
   "execution_count": null,
   "metadata": {
    "colab": {
     "base_uri": "https://localhost:8080/",
     "height": 68
    },
    "id": "EOJFeEfumns6",
    "outputId": "6f8a98fe-8261-48fc-ded7-11ceae9c75bd"
   },
   "outputs": [],
   "source": [
    "train_image_generator = ImageDataGenerator(rescale=1/255)\n",
    "validation_image_generator = ImageDataGenerator(rescale=1/255)\n",
    "test_image_generator = ImageDataGenerator(rescale=1/255)\n",
    "\n",
    "train_data_gen = train_image_generator.flow_from_directory(train_dir, target_size=(IMG_HEIGHT, IMG_WIDTH), class_mode=\"binary\", batch_size=batch_size, color_mode=\"rgb\", seed=42)\n",
    "val_data_gen = validation_image_generator.flow_from_directory(validation_dir, target_size=(IMG_HEIGHT, IMG_WIDTH), class_mode=\"binary\", batch_size=batch_size, color_mode=\"rgb\", seed=42)\n",
    "test_data_gen = test_image_generator.flow_from_directory(test_dir, target_size=(IMG_HEIGHT, IMG_WIDTH), shuffle=False, color_mode=\"rgb\", class_mode=None, classes=None)"
   ]
  },
  {
   "cell_type": "markdown",
   "metadata": {},
   "source": [
    "## Gerar função para criar visualização dos das imagens"
   ]
  },
  {
   "cell_type": "code",
   "execution_count": null,
   "metadata": {
    "colab": {
     "base_uri": "https://localhost:8080/",
     "height": 846
    },
    "id": "TP0WA8j1mt7Q",
    "outputId": "06fd2dd1-fd0e-44fd-8185-0e66bb9ea89b"
   },
   "outputs": [],
   "source": [
    "def plotImages(images_arr, probabilities = False):\n",
    "    fig, axes = plt.subplots(len(images_arr), 1, figsize=(5,len(images_arr) * 3))\n",
    "    if probabilities is False:\n",
    "        for img, ax in zip( images_arr, axes):\n",
    "            ax.imshow(img)\n",
    "            ax.axis('off')\n",
    "    else:\n",
    "        for img, probability, ax in zip( images_arr, probabilities, axes):\n",
    "            ax.imshow(img)\n",
    "            ax.axis('off')\n",
    "            if probability > 0.5:\n",
    "                ax.set_title(\"%.2f\" % (probability*100) + \"% dog\")\n",
    "            else:\n",
    "                ax.set_title(\"%.2f\" % ((1-probability)*100) + \"% cat\")\n",
    "    plt.show()\n",
    "\n",
    "sample_training_images, _ = next(train_data_gen)\n",
    "plotImages(sample_training_images[:5])"
   ]
  },
  {
   "cell_type": "markdown",
   "metadata": {},
   "source": [
    "## Definindo funções de augmentation"
   ]
  },
  {
   "cell_type": "code",
   "execution_count": null,
   "metadata": {
    "id": "-32RRLY_3voj"
   },
   "outputs": [],
   "source": [
    "train_image_generator = ImageDataGenerator(horizontal_flip=True, vertical_flip=True, width_shift_range=0.3, height_shift_range=0.3, rotation_range=90, shear_range=0.1, rescale=1/255)\n",
    "validation_image_generator = ImageDataGenerator(horizontal_flip=True, vertical_flip=True, rotation_range=90, rescale=1/255)"
   ]
  },
  {
   "cell_type": "code",
   "execution_count": null,
   "metadata": {
    "colab": {
     "base_uri": "https://localhost:8080/",
     "height": 863
    },
    "id": "pkwq2LFvqabS",
    "outputId": "16438bec-42ca-42bc-8c62-b4bd41a4cd42"
   },
   "outputs": [],
   "source": [
    "train_data_gen = train_image_generator.flow_from_directory(train_dir, \n",
    "                                                           target_size=(IMG_HEIGHT, IMG_WIDTH),\n",
    "                                                           class_mode=\"binary\",\n",
    "                                                           batch_size=batch_size,\n",
    "                                                           color_mode=\"rgb\",\n",
    "                                                           seed=42)\n",
    "\n",
    "augmented_images = [train_data_gen[0][0][0] for i in range(5)]\n",
    "\n",
    "plotImages(augmented_images)"
   ]
  },
  {
   "cell_type": "markdown",
   "metadata": {},
   "source": [
    "## Criando modelo para classificação"
   ]
  },
  {
   "cell_type": "code",
   "execution_count": null,
   "metadata": {},
   "outputs": [],
   "source": [
    "class cat_dog_network(tf.keras.Model):\n",
    "    def __init__(self, backbone, output_units):\n",
    "        super(cat_dog_network, self).__init__()\n",
    "        self.backbone = backbone\n",
    "        self.dense_layer = Dense(output_units, activation=\"sigmoid\")\n",
    "\n",
    "    def call(self, inputs, training=False):\n",
    "        x = self.backbone(inputs, training)\n",
    "        x = tf.keras.layers.Flatten()(x)\n",
    "        outputs = self.dense_layer(x)\n",
    "        return outputs"
   ]
  },
  {
   "cell_type": "markdown",
   "metadata": {},
   "source": [
    "### Baixando modelos do keras\n",
    "\n",
    "Para mais informações entrar em: https://www.tensorflow.org/api_docs/python/tf/keras/applications"
   ]
  },
  {
   "cell_type": "code",
   "execution_count": null,
   "metadata": {
    "colab": {
     "base_uri": "https://localhost:8080/",
     "height": 1000
    },
    "id": "uHsC-X8wVKsr",
    "outputId": "a43a0be1-82e1-4514-ece8-686c0ecd05d6"
   },
   "outputs": [],
   "source": [
    "conv_layers = tf.keras.applications.MobileNet(include_top=False, input_shape=(IMG_HEIGHT, IMG_WIDTH, 3))\n",
    "\n",
    "conv_layers.trainable=False\n",
    "\n",
    "conv_layers.summary()"
   ]
  },
  {
   "cell_type": "code",
   "execution_count": null,
   "metadata": {},
   "outputs": [],
   "source": [
    "new_model = cat_dog_network(conv_layers, output_units=1)"
   ]
  },
  {
   "cell_type": "code",
   "execution_count": null,
   "metadata": {
    "id": "uVZ_G2jgVtCJ"
   },
   "outputs": [],
   "source": [
    "new_model.compile(optimizer=\"adam\", loss=\"binary_crossentropy\", metrics=[\"accuracy\"])"
   ]
  },
  {
   "cell_type": "code",
   "execution_count": null,
   "metadata": {
    "colab": {
     "base_uri": "https://localhost:8080/",
     "height": 187
    },
    "id": "9NMsEnFTXZQz",
    "outputId": "e0879cb8-1afa-4375-f8b1-f310a9b05123"
   },
   "outputs": [],
   "source": [
    "history = new_model.fit(train_data_gen, epochs=epochs, validation_data=val_data_gen, validation_steps=total_val/batch_size)"
   ]
  },
  {
   "cell_type": "code",
   "execution_count": null,
   "metadata": {},
   "outputs": [],
   "source": [
    "new_model.summary()"
   ]
  },
  {
   "cell_type": "code",
   "execution_count": null,
   "metadata": {
    "colab": {
     "base_uri": "https://localhost:8080/",
     "height": 499
    },
    "id": "lNH7McNDXyV8",
    "outputId": "c24936c1-72c7-478c-f7ba-b9bf900a5e56"
   },
   "outputs": [],
   "source": [
    "acc = history.history['accuracy']\n",
    "val_acc = history.history['val_accuracy']\n",
    "\n",
    "loss = history.history['loss']\n",
    "val_loss = history.history['val_loss']\n",
    "\n",
    "epochs_range = range(epochs)\n",
    "\n",
    "plt.figure(figsize=(8, 8))\n",
    "plt.subplot(1, 2, 1)\n",
    "plt.plot(epochs_range, acc, label='Training Accuracy')\n",
    "plt.plot(epochs_range, val_acc, label='Validation Accuracy')\n",
    "plt.legend(loc='lower right')\n",
    "plt.title('Training and Validation Accuracy')\n",
    "\n",
    "plt.subplot(1, 2, 2)\n",
    "plt.plot(epochs_range, loss, label='Training Loss')\n",
    "plt.plot(epochs_range, val_loss, label='Validation Loss')\n",
    "plt.legend(loc='upper right')\n",
    "plt.title('Training and Validation Loss')\n",
    "plt.show()"
   ]
  },
  {
   "cell_type": "code",
   "execution_count": null,
   "metadata": {
    "colab": {
     "base_uri": "https://localhost:8080/",
     "height": 1000
    },
    "id": "K5_caU80X4ms",
    "outputId": "055cec6e-522b-4e68-a358-1b63a9c1e528"
   },
   "outputs": [],
   "source": [
    "probabilities = new_model.predict(test_data_gen)\n",
    "\n",
    "sample_test_images = next(test_data_gen)\n",
    "\n",
    "plotImages(sample_test_images, probabilities=probabilities)"
   ]
  },
  {
   "cell_type": "markdown",
   "metadata": {},
   "source": [
    "# Exemplo de como salvar e reusar os modelos treinados"
   ]
  },
  {
   "cell_type": "code",
   "execution_count": null,
   "metadata": {},
   "outputs": [],
   "source": [
    "new_model.save(\"pretrained_model\")"
   ]
  },
  {
   "cell_type": "code",
   "execution_count": null,
   "metadata": {},
   "outputs": [],
   "source": [
    "loaded_model = tf.keras.models.load_model(\"pretrained_model\")"
   ]
  },
  {
   "cell_type": "code",
   "execution_count": null,
   "metadata": {},
   "outputs": [],
   "source": [
    "loaded_model.summary()"
   ]
  },
  {
   "cell_type": "code",
   "execution_count": null,
   "metadata": {},
   "outputs": [],
   "source": [
    "probabilities = loaded_model.predict(test_data_gen)\n",
    "\n",
    "sample_test_images = next(test_data_gen)\n",
    "\n",
    "plotImages(sample_test_images, probabilities=probabilities)"
   ]
  }
 ],
 "metadata": {
  "colab": {
   "collapsed_sections": [],
   "name": "Solution to fcc_cat_dog.ipynb",
   "provenance": []
  },
  "kernelspec": {
   "display_name": "curso_openvino",
   "language": "python",
   "name": "curso_openvino"
  },
  "language_info": {
   "codemirror_mode": {
    "name": "ipython",
    "version": 3
   },
   "file_extension": ".py",
   "mimetype": "text/x-python",
   "name": "python",
   "nbconvert_exporter": "python",
   "pygments_lexer": "ipython3",
   "version": "3.6.9"
  }
 },
 "nbformat": 4,
 "nbformat_minor": 1
}
