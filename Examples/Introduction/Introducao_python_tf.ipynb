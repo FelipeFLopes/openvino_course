{
 "cells": [
  {
   "cell_type": "markdown",
   "metadata": {},
   "source": [
    "# Introdução ao Python e tensorflow"
   ]
  },
  {
   "cell_type": "markdown",
   "metadata": {},
   "source": [
    "## Básico de python"
   ]
  },
  {
   "cell_type": "markdown",
   "metadata": {},
   "source": [
    "### Manipulação básica de variáveis"
   ]
  },
  {
   "cell_type": "code",
   "execution_count": null,
   "metadata": {},
   "outputs": [],
   "source": [
    "inteiro = 42\n",
    "\n",
    "print(inteiro)\n",
    "\n",
    "ponto_flutuante = 42.0\n",
    "\n",
    "print(ponto_flutuante)\n",
    "\n",
    "texto = \"texto\"\n",
    "\n",
    "print(texto)"
   ]
  },
  {
   "cell_type": "code",
   "execution_count": null,
   "metadata": {},
   "outputs": [],
   "source": [
    "inteiro = 42\n",
    "\n",
    "print(type(inteiro))\n",
    "\n",
    "ponto_flutuante = 42.0\n",
    "\n",
    "print(type(ponto_flutuante))\n",
    "\n",
    "texto = \"texto\"\n",
    "\n",
    "print(type(texto))"
   ]
  },
  {
   "cell_type": "code",
   "execution_count": null,
   "metadata": {},
   "outputs": [],
   "source": [
    "inteiro = 42\n",
    "\n",
    "ponto_flutuante = 42.0\n",
    "\n",
    "print(inteiro + ponto_flutuante)\n",
    "print(type(inteiro + ponto_flutuante))\n",
    "\n",
    "texto = \"texto\"\n",
    "\n",
    "print(inteiro + texto)\n",
    "print(type(inteiro + texto))"
   ]
  },
  {
   "cell_type": "code",
   "execution_count": null,
   "metadata": {},
   "outputs": [],
   "source": [
    "print(str(inteiro) + texto)\n",
    "print(type(str(inteiro) + texto))"
   ]
  },
  {
   "cell_type": "code",
   "execution_count": null,
   "metadata": {},
   "outputs": [],
   "source": [
    "inteiro = 42\n",
    "\n",
    "print(inteiro)\n",
    "print(type(inteiro))\n",
    "\n",
    "inteiro = 42.0\n",
    "\n",
    "print(inteiro)\n",
    "print(type(inteiro))\n",
    "\n",
    "inteiro = \"texto\"\n",
    "\n",
    "print(inteiro)\n",
    "print(type(inteiro))"
   ]
  },
  {
   "cell_type": "markdown",
   "metadata": {},
   "source": [
    "### Classes e funções em python"
   ]
  },
  {
   "cell_type": "code",
   "execution_count": null,
   "metadata": {},
   "outputs": [],
   "source": [
    "def qual_tipo(variavel):\n",
    "    return type(variavel)"
   ]
  },
  {
   "cell_type": "code",
   "execution_count": null,
   "metadata": {},
   "outputs": [],
   "source": [
    "inteiro = 42\n",
    "\n",
    "print(inteiro)\n",
    "print(qual_tipo(inteiro))\n",
    "\n",
    "inteiro = 42.0\n",
    "\n",
    "print(inteiro)\n",
    "print(qual_tipo(inteiro))\n",
    "\n",
    "inteiro = \"texto\"\n",
    "\n",
    "print(inteiro)\n",
    "print(qual_tipo(inteiro))"
   ]
  },
  {
   "cell_type": "code",
   "execution_count": null,
   "metadata": {},
   "outputs": [],
   "source": [
    "def imprimir_valor_tipo(variavel):\n",
    "    \n",
    "    print(variavel)\n",
    "    print(qual_tipo(variavel))"
   ]
  },
  {
   "cell_type": "code",
   "execution_count": null,
   "metadata": {},
   "outputs": [],
   "source": [
    "inteiro = 42\n",
    "\n",
    "imprimir_valor_tipo(inteiro)\n",
    "\n",
    "inteiro = 42.0\n",
    "\n",
    "imprimir_valor_tipo(inteiro)\n",
    "\n",
    "inteiro = \"texto\"\n",
    "\n",
    "imprimir_valor_tipo(inteiro)"
   ]
  },
  {
   "cell_type": "code",
   "execution_count": null,
   "metadata": {},
   "outputs": [],
   "source": [
    "class ajudante():\n",
    "    \n",
    "    def __init__(self, variavel):\n",
    "        self.var = variavel\n",
    "        \n",
    "    def valor_tipo(self):\n",
    "        print(self.var)\n",
    "        print(type(self.var))"
   ]
  },
  {
   "cell_type": "code",
   "execution_count": null,
   "metadata": {},
   "outputs": [],
   "source": [
    "ajudante_1 = ajudante(42)\n",
    "ajudante_1.valor_tipo()\n",
    "\n",
    "ajudante_2 = ajudante(42.0)\n",
    "ajudante_2.valor_tipo()\n",
    "\n",
    "ajudante_3 = ajudante(\"texto\")\n",
    "ajudante_3.valor_tipo()"
   ]
  },
  {
   "cell_type": "markdown",
   "metadata": {},
   "source": [
    "### Descobrindo o tamanho de cada um dos dados"
   ]
  },
  {
   "cell_type": "code",
   "execution_count": null,
   "metadata": {},
   "outputs": [],
   "source": [
    "import sys\n",
    "\n",
    "inteiro = 42\n",
    "\n",
    "ponto_flutuante = 42.0\n",
    "\n",
    "texto = \"texto\"\n",
    "\n",
    "tamanho_inteiro = sys.getsizeof(inteiro)\n",
    "tamanho_pronto_flutuante = sys.getsizeof(ponto_flutuante)\n",
    "tamanho_texto = sys.getsizeof(texto)\n",
    "tamanho_ajudante_1 = sys.getsizeof(ajudante_1)\n",
    "tamanho_imprimir_valor_tipo = sys.getsizeof(imprimir_valor_tipo)\n",
    "tamanho_qual_tipo = sys.getsizeof(qual_tipo)\n",
    "\n",
    "print(f\"Tamanho do inteiro é - {tamanho_inteiro} bytes\")\n",
    "print(f\"Tamanho do ponto flutuante é - {tamanho_pronto_flutuante} bytes\")\n",
    "print(f\"Tamanho do texto é - {tamanho_texto} bytes\")\n",
    "print(f\"Tamanho do ajudante_1 é - {tamanho_ajudante_1} bytes\")\n",
    "print(f\"Tamanho da função imprimir_valor_tipo é - {tamanho_imprimir_valor_tipo} bytes\")\n",
    "print(f\"Tamanho da função qual_tipo é -{tamanho_qual_tipo} bytes\")"
   ]
  },
  {
   "cell_type": "markdown",
   "metadata": {},
   "source": [
    "### Fors e Ifs"
   ]
  },
  {
   "cell_type": "code",
   "execution_count": null,
   "metadata": {},
   "outputs": [],
   "source": [
    "for valor in [42, 42.0, \"texto\"]:\n",
    "    imprimir_valor_tipo(valor)"
   ]
  },
  {
   "cell_type": "code",
   "execution_count": null,
   "metadata": {},
   "outputs": [],
   "source": [
    "for valor in [42, 42.0, \"texto\"]:\n",
    "    \n",
    "    if qual_tipo(valor) == int:\n",
    "        print(\"Ai vem um inteiro\")\n",
    "        \n",
    "    imprimir_valor_tipo(valor)"
   ]
  },
  {
   "cell_type": "markdown",
   "metadata": {},
   "source": [
    "### Leitura de arquivos em python"
   ]
  },
  {
   "cell_type": "code",
   "execution_count": null,
   "metadata": {},
   "outputs": [],
   "source": [
    "with open(\"text.txt\", \"r\") as file:\n",
    "    conteudo = file.readlines()\n",
    "    print(conteudo)"
   ]
  },
  {
   "cell_type": "code",
   "execution_count": null,
   "metadata": {},
   "outputs": [],
   "source": [
    "for linha in conteudo:\n",
    "    print(linha)"
   ]
  },
  {
   "cell_type": "markdown",
   "metadata": {},
   "source": [
    "## Primeiros passos no tensorflow"
   ]
  },
  {
   "cell_type": "code",
   "execution_count": null,
   "metadata": {},
   "outputs": [],
   "source": [
    "import numpy as np\n",
    "import tensorflow as tf"
   ]
  },
  {
   "cell_type": "code",
   "execution_count": null,
   "metadata": {},
   "outputs": [],
   "source": [
    "tf.__version__"
   ]
  },
  {
   "cell_type": "markdown",
   "metadata": {},
   "source": [
    "### Criando sua primeira rede"
   ]
  },
  {
   "cell_type": "code",
   "execution_count": null,
   "metadata": {},
   "outputs": [],
   "source": [
    "modelo = tf.keras.Sequential()"
   ]
  },
  {
   "cell_type": "code",
   "execution_count": null,
   "metadata": {},
   "outputs": [],
   "source": [
    "print(modelo)\n",
    "print(type(modelo))"
   ]
  },
  {
   "cell_type": "code",
   "execution_count": null,
   "metadata": {},
   "outputs": [],
   "source": [
    "print(modelo.compiled_metrics)"
   ]
  },
  {
   "cell_type": "markdown",
   "metadata": {},
   "source": [
    "### Dados de treinamento"
   ]
  },
  {
   "cell_type": "code",
   "execution_count": null,
   "metadata": {},
   "outputs": [],
   "source": [
    "x = np.arange(0,0.5,0.02)\n",
    "\n",
    "y = 2 * x"
   ]
  },
  {
   "cell_type": "markdown",
   "metadata": {},
   "source": [
    "### Definição da rede"
   ]
  },
  {
   "cell_type": "code",
   "execution_count": null,
   "metadata": {},
   "outputs": [],
   "source": [
    "camada_densa = tf.keras.layers.Dense(units=1, activation=\"linear\", input_shape=(1,))\n",
    "camada_densa_2 = tf.keras.layers.Dense(units=1, activation=\"linear\")"
   ]
  },
  {
   "cell_type": "code",
   "execution_count": null,
   "metadata": {},
   "outputs": [],
   "source": [
    "modelo.add(camada_densa)\n",
    "modelo.add(camada_densa_2)"
   ]
  },
  {
   "cell_type": "code",
   "execution_count": null,
   "metadata": {},
   "outputs": [],
   "source": [
    "modelo.summary()"
   ]
  },
  {
   "cell_type": "markdown",
   "metadata": {},
   "source": [
    "## Definir treinamento"
   ]
  },
  {
   "cell_type": "code",
   "execution_count": null,
   "metadata": {},
   "outputs": [],
   "source": [
    "modelo.compile(optimizer='sgd', loss='mse')"
   ]
  },
  {
   "cell_type": "code",
   "execution_count": null,
   "metadata": {},
   "outputs": [],
   "source": [
    "historico = modelo.fit(x, y, batch_size=2, epochs=4)"
   ]
  },
  {
   "cell_type": "code",
   "execution_count": null,
   "metadata": {},
   "outputs": [],
   "source": [
    "mse_treino = historico.history[\"loss\"][-1]"
   ]
  },
  {
   "cell_type": "code",
   "execution_count": null,
   "metadata": {},
   "outputs": [],
   "source": [
    "modelo.predict(x)"
   ]
  },
  {
   "cell_type": "markdown",
   "metadata": {},
   "source": [
    "### Fazer teste"
   ]
  },
  {
   "cell_type": "code",
   "execution_count": null,
   "metadata": {},
   "outputs": [],
   "source": [
    "x_teste = np.arange(0.5,1.0,0.02)\n",
    "\n",
    "y_teste = 2 * x_teste"
   ]
  },
  {
   "cell_type": "code",
   "execution_count": null,
   "metadata": {},
   "outputs": [],
   "source": [
    "y_predito = modelo.predict(x_teste)"
   ]
  },
  {
   "cell_type": "code",
   "execution_count": null,
   "metadata": {},
   "outputs": [],
   "source": [
    "mse_teste = modelo.evaluate(x=x_teste, y=y_teste)"
   ]
  },
  {
   "cell_type": "code",
   "execution_count": null,
   "metadata": {},
   "outputs": [],
   "source": [
    "print(mse_treino)\n",
    "print(mse_teste)"
   ]
  },
  {
   "cell_type": "code",
   "execution_count": null,
   "metadata": {},
   "outputs": [],
   "source": [
    "sys.getsizeof(modelo)"
   ]
  },
  {
   "cell_type": "code",
   "execution_count": null,
   "metadata": {},
   "outputs": [],
   "source": []
  }
 ],
 "metadata": {
  "kernelspec": {
   "display_name": "curso_openvino",
   "language": "python",
   "name": "curso_openvino"
  },
  "language_info": {
   "codemirror_mode": {
    "name": "ipython",
    "version": 3
   },
   "file_extension": ".py",
   "mimetype": "text/x-python",
   "name": "python",
   "nbconvert_exporter": "python",
   "pygments_lexer": "ipython3",
   "version": "3.6.9"
  }
 },
 "nbformat": 4,
 "nbformat_minor": 4
}
