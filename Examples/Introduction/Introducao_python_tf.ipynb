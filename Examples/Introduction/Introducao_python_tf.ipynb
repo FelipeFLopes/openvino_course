{
 "cells": [
  {
   "cell_type": "markdown",
   "metadata": {},
   "source": [
    "# Introdução ao Python e tensorflow"
   ]
  },
  {
   "cell_type": "markdown",
   "metadata": {},
   "source": [
    "## Básico de python"
   ]
  },
  {
   "cell_type": "markdown",
   "metadata": {},
   "source": [
    "### Manipulação básica de variáveis"
   ]
  },
  {
   "cell_type": "code",
   "execution_count": 1,
   "metadata": {},
   "outputs": [
    {
     "name": "stdout",
     "output_type": "stream",
     "text": [
      "42\n",
      "42.0\n",
      "texto\n"
     ]
    }
   ],
   "source": [
    "inteiro = 42\n",
    "\n",
    "print(inteiro)\n",
    "\n",
    "ponto_flutuante = 42.0\n",
    "\n",
    "print(ponto_flutuante)\n",
    "\n",
    "texto = \"texto\"\n",
    "\n",
    "print(texto)"
   ]
  },
  {
   "cell_type": "code",
   "execution_count": 3,
   "metadata": {},
   "outputs": [
    {
     "name": "stdout",
     "output_type": "stream",
     "text": [
      "<class 'int'>\n",
      "<class 'float'>\n",
      "<class 'str'>\n"
     ]
    }
   ],
   "source": [
    "inteiro = 42\n",
    "\n",
    "print(type(inteiro))\n",
    "\n",
    "ponto_flutuante = 42.0\n",
    "\n",
    "print(type(ponto_flutuante))\n",
    "\n",
    "texto = \"texto\"\n",
    "\n",
    "print(type(texto))"
   ]
  },
  {
   "cell_type": "code",
   "execution_count": 33,
   "metadata": {},
   "outputs": [
    {
     "name": "stdout",
     "output_type": "stream",
     "text": [
      "84.0\n",
      "<class 'float'>\n"
     ]
    },
    {
     "ename": "TypeError",
     "evalue": "unsupported operand type(s) for +: 'int' and 'str'",
     "output_type": "error",
     "traceback": [
      "\u001b[0;31m---------------------------------------------------------------------------\u001b[0m",
      "\u001b[0;31mTypeError\u001b[0m                                 Traceback (most recent call last)",
      "\u001b[0;32m<ipython-input-33-5e88ff5d46ae>\u001b[0m in \u001b[0;36m<module>\u001b[0;34m\u001b[0m\n\u001b[1;32m      8\u001b[0m \u001b[0mtexto\u001b[0m \u001b[0;34m=\u001b[0m \u001b[0;34m\"texto\"\u001b[0m\u001b[0;34m\u001b[0m\u001b[0;34m\u001b[0m\u001b[0m\n\u001b[1;32m      9\u001b[0m \u001b[0;34m\u001b[0m\u001b[0m\n\u001b[0;32m---> 10\u001b[0;31m \u001b[0mprint\u001b[0m\u001b[0;34m(\u001b[0m\u001b[0minteiro\u001b[0m \u001b[0;34m+\u001b[0m \u001b[0mtexto\u001b[0m\u001b[0;34m)\u001b[0m\u001b[0;34m\u001b[0m\u001b[0;34m\u001b[0m\u001b[0m\n\u001b[0m\u001b[1;32m     11\u001b[0m \u001b[0mprint\u001b[0m\u001b[0;34m(\u001b[0m\u001b[0mtype\u001b[0m\u001b[0;34m(\u001b[0m\u001b[0minteiro\u001b[0m \u001b[0;34m+\u001b[0m \u001b[0mtexto\u001b[0m\u001b[0;34m)\u001b[0m\u001b[0;34m)\u001b[0m\u001b[0;34m\u001b[0m\u001b[0;34m\u001b[0m\u001b[0m\n",
      "\u001b[0;31mTypeError\u001b[0m: unsupported operand type(s) for +: 'int' and 'str'"
     ]
    }
   ],
   "source": [
    "inteiro = 42\n",
    "\n",
    "ponto_flutuante = 42.0\n",
    "\n",
    "print(inteiro + ponto_flutuante)\n",
    "print(type(inteiro + ponto_flutuante))\n",
    "\n",
    "texto = \"texto\"\n",
    "\n",
    "print(inteiro + texto)\n",
    "print(type(inteiro + texto))"
   ]
  },
  {
   "cell_type": "code",
   "execution_count": 34,
   "metadata": {},
   "outputs": [
    {
     "name": "stdout",
     "output_type": "stream",
     "text": [
      "42texto\n",
      "<class 'str'>\n"
     ]
    }
   ],
   "source": [
    "print(str(inteiro) + texto)\n",
    "print(type(str(inteiro) + texto))"
   ]
  },
  {
   "cell_type": "code",
   "execution_count": 5,
   "metadata": {},
   "outputs": [
    {
     "name": "stdout",
     "output_type": "stream",
     "text": [
      "42\n",
      "<class 'int'>\n",
      "42.0\n",
      "<class 'float'>\n",
      "texto\n",
      "<class 'str'>\n"
     ]
    }
   ],
   "source": [
    "inteiro = 42\n",
    "\n",
    "print(inteiro)\n",
    "print(type(inteiro))\n",
    "\n",
    "inteiro = 42.0\n",
    "\n",
    "print(inteiro)\n",
    "print(type(inteiro))\n",
    "\n",
    "inteiro = \"texto\"\n",
    "\n",
    "print(inteiro)\n",
    "print(type(inteiro))"
   ]
  },
  {
   "cell_type": "markdown",
   "metadata": {},
   "source": [
    "### Classes e funções em python"
   ]
  },
  {
   "cell_type": "code",
   "execution_count": 145,
   "metadata": {},
   "outputs": [],
   "source": [
    "def qual_tipo(variavel):\n",
    "    return type(variavel)"
   ]
  },
  {
   "cell_type": "code",
   "execution_count": 20,
   "metadata": {},
   "outputs": [
    {
     "name": "stdout",
     "output_type": "stream",
     "text": [
      "42\n",
      "<class 'int'>\n",
      "42.0\n",
      "<class 'float'>\n",
      "texto\n",
      "<class 'str'>\n"
     ]
    }
   ],
   "source": [
    "inteiro = 42\n",
    "\n",
    "print(inteiro)\n",
    "print(qual_tipo(inteiro))\n",
    "\n",
    "inteiro = 42.0\n",
    "\n",
    "print(inteiro)\n",
    "print(qual_tipo(inteiro))\n",
    "\n",
    "inteiro = \"texto\"\n",
    "\n",
    "print(inteiro)\n",
    "print(qual_tipo(inteiro))"
   ]
  },
  {
   "cell_type": "code",
   "execution_count": 142,
   "metadata": {},
   "outputs": [],
   "source": [
    "def imprimir_valor_tipo(variavel):\n",
    "    \n",
    "    print(variavel)\n",
    "    print(qual_tipo(variavel))"
   ]
  },
  {
   "cell_type": "code",
   "execution_count": 22,
   "metadata": {},
   "outputs": [
    {
     "name": "stdout",
     "output_type": "stream",
     "text": [
      "42\n",
      "<class 'int'>\n",
      "42.0\n",
      "<class 'float'>\n",
      "texto\n",
      "<class 'str'>\n"
     ]
    }
   ],
   "source": [
    "inteiro = 42\n",
    "\n",
    "imprimir_valor_tipo(inteiro)\n",
    "\n",
    "inteiro = 42.0\n",
    "\n",
    "imprimir_valor_tipo(inteiro)\n",
    "\n",
    "inteiro = \"texto\"\n",
    "\n",
    "imprimir_valor_tipo(inteiro)"
   ]
  },
  {
   "cell_type": "code",
   "execution_count": 138,
   "metadata": {},
   "outputs": [],
   "source": [
    "class ajudante():\n",
    "    \n",
    "    def __init__(self, variavel):\n",
    "        self.var = variavel\n",
    "        \n",
    "    def valor_tipo(self):\n",
    "        print(self.var)\n",
    "        print(type(self.var))"
   ]
  },
  {
   "cell_type": "code",
   "execution_count": 139,
   "metadata": {},
   "outputs": [
    {
     "name": "stdout",
     "output_type": "stream",
     "text": [
      "42\n",
      "<class 'int'>\n",
      "42.0\n",
      "<class 'float'>\n",
      "texto\n",
      "<class 'str'>\n"
     ]
    }
   ],
   "source": [
    "ajudante_1 = ajudante(42)\n",
    "ajudante_1.valor_tipo()\n",
    "\n",
    "ajudante_2 = ajudante(42.0)\n",
    "ajudante_2.valor_tipo()\n",
    "\n",
    "ajudante_3 = ajudante(\"texto\")\n",
    "ajudante_3.valor_tipo()"
   ]
  },
  {
   "cell_type": "markdown",
   "metadata": {},
   "source": [
    "### Descobrindo o tamanho de cada um dos dados"
   ]
  },
  {
   "cell_type": "code",
   "execution_count": 155,
   "metadata": {},
   "outputs": [
    {
     "name": "stdout",
     "output_type": "stream",
     "text": [
      "Tamanho do inteiro é - 28 bytes\n",
      "Tamanho do ponto flutuante é - 24 bytes\n",
      "Tamanho do texto é - 54 bytes\n",
      "Tamanho do ajudante_1 é - 56 bytes\n",
      "Tamanho da função imprimir_valor_tipo é - 136 bytes\n",
      "Tamanho da função qual_tipo é -136 bytes\n"
     ]
    }
   ],
   "source": [
    "import sys\n",
    "\n",
    "inteiro = 42\n",
    "\n",
    "ponto_flutuante = 42.0\n",
    "\n",
    "texto = \"texto\"\n",
    "\n",
    "tamanho_inteiro = sys.getsizeof(inteiro)\n",
    "tamanho_pronto_flutuante = sys.getsizeof(ponto_flutuante)\n",
    "tamanho_texto = sys.getsizeof(texto)\n",
    "tamanho_ajudante_1 = sys.getsizeof(ajudante_1)\n",
    "tamanho_imprimir_valor_tipo = sys.getsizeof(imprimir_valor_tipo)\n",
    "tamanho_qual_tipo = sys.getsizeof(qual_tipo)\n",
    "\n",
    "print(f\"Tamanho do inteiro é - {tamanho_inteiro} bytes\")\n",
    "print(f\"Tamanho do ponto flutuante é - {tamanho_pronto_flutuante} bytes\")\n",
    "print(f\"Tamanho do texto é - {tamanho_texto} bytes\")\n",
    "print(f\"Tamanho do ajudante_1 é - {tamanho_ajudante_1} bytes\")\n",
    "print(f\"Tamanho da função imprimir_valor_tipo é - {tamanho_imprimir_valor_tipo} bytes\")\n",
    "print(f\"Tamanho da função qual_tipo é -{tamanho_qual_tipo} bytes\")"
   ]
  },
  {
   "cell_type": "markdown",
   "metadata": {},
   "source": [
    "### Fors e Ifs"
   ]
  },
  {
   "cell_type": "code",
   "execution_count": 25,
   "metadata": {},
   "outputs": [
    {
     "name": "stdout",
     "output_type": "stream",
     "text": [
      "42\n",
      "<class 'int'>\n",
      "42.0\n",
      "<class 'float'>\n",
      "texto\n",
      "<class 'str'>\n"
     ]
    }
   ],
   "source": [
    "for valor in [42, 42.0, \"texto\"]:\n",
    "    imprimir_valor_tipo(valor)"
   ]
  },
  {
   "cell_type": "code",
   "execution_count": 28,
   "metadata": {},
   "outputs": [
    {
     "name": "stdout",
     "output_type": "stream",
     "text": [
      "Ai vem um inteiro\n",
      "42\n",
      "<class 'int'>\n",
      "42.0\n",
      "<class 'float'>\n",
      "texto\n",
      "<class 'str'>\n"
     ]
    }
   ],
   "source": [
    "for valor in [42, 42.0, \"texto\"]:\n",
    "    \n",
    "    if qual_tipo(valor) == int:\n",
    "        print(\"Ai vem um inteiro\")\n",
    "        \n",
    "    imprimir_valor_tipo(valor)"
   ]
  },
  {
   "cell_type": "markdown",
   "metadata": {},
   "source": [
    "### Leitura de arquivos em python"
   ]
  },
  {
   "cell_type": "code",
   "execution_count": 30,
   "metadata": {},
   "outputs": [
    {
     "name": "stdout",
     "output_type": "stream",
     "text": [
      "['Parabéns\\n', 'por ler\\n', 'seu primeiro arquivo\\n']\n"
     ]
    }
   ],
   "source": [
    "with open(\"text.txt\", \"r\") as file:\n",
    "    conteudo = file.readlines()\n",
    "    print(conteudo)"
   ]
  },
  {
   "cell_type": "code",
   "execution_count": 31,
   "metadata": {},
   "outputs": [
    {
     "name": "stdout",
     "output_type": "stream",
     "text": [
      "Parabéns\n",
      "\n",
      "por ler\n",
      "\n",
      "seu primeiro arquivo\n",
      "\n"
     ]
    }
   ],
   "source": [
    "for linha in conteudo:\n",
    "    print(linha)"
   ]
  },
  {
   "cell_type": "markdown",
   "metadata": {},
   "source": [
    "## Primeiros passos no tensorflow"
   ]
  },
  {
   "cell_type": "code",
   "execution_count": 68,
   "metadata": {},
   "outputs": [],
   "source": [
    "import numpy as np\n",
    "import tensorflow as tf"
   ]
  },
  {
   "cell_type": "code",
   "execution_count": 2,
   "metadata": {},
   "outputs": [
    {
     "data": {
      "text/plain": [
       "'2.3.0'"
      ]
     },
     "execution_count": 2,
     "metadata": {},
     "output_type": "execute_result"
    }
   ],
   "source": [
    "tf.__version__"
   ]
  },
  {
   "cell_type": "markdown",
   "metadata": {},
   "source": [
    "### Criando sua primeira rede"
   ]
  },
  {
   "cell_type": "code",
   "execution_count": 95,
   "metadata": {},
   "outputs": [],
   "source": [
    "modelo = tf.keras.Sequential()"
   ]
  },
  {
   "cell_type": "code",
   "execution_count": 96,
   "metadata": {},
   "outputs": [
    {
     "name": "stdout",
     "output_type": "stream",
     "text": [
      "<tensorflow.python.keras.engine.sequential.Sequential object at 0x7f550871f6a0>\n",
      "<class 'tensorflow.python.keras.engine.sequential.Sequential'>\n"
     ]
    }
   ],
   "source": [
    "print(modelo)\n",
    "print(type(modelo))"
   ]
  },
  {
   "cell_type": "code",
   "execution_count": 97,
   "metadata": {},
   "outputs": [
    {
     "name": "stdout",
     "output_type": "stream",
     "text": [
      "None\n"
     ]
    }
   ],
   "source": [
    "print(modelo.compiled_metrics)"
   ]
  },
  {
   "cell_type": "markdown",
   "metadata": {},
   "source": [
    "### Dados de treinamento"
   ]
  },
  {
   "cell_type": "code",
   "execution_count": null,
   "metadata": {},
   "outputs": [],
   "source": [
    "x = np.arange(0,0.5,0.02)\n",
    "\n",
    "y = 2 * x"
   ]
  },
  {
   "cell_type": "markdown",
   "metadata": {},
   "source": [
    "### Definição da rede"
   ]
  },
  {
   "cell_type": "code",
   "execution_count": 98,
   "metadata": {},
   "outputs": [],
   "source": [
    "camada_densa = tf.keras.layers.Dense(units=1, activation=\"linear\", input_shape=(1,))\n",
    "camada_densa_2 = tf.keras.layers.Dense(units=1, activation=\"linear\")"
   ]
  },
  {
   "cell_type": "code",
   "execution_count": 99,
   "metadata": {},
   "outputs": [],
   "source": [
    "modelo.add(camada_densa)\n",
    "modelo.add(camada_densa_2)"
   ]
  },
  {
   "cell_type": "code",
   "execution_count": 100,
   "metadata": {},
   "outputs": [
    {
     "name": "stdout",
     "output_type": "stream",
     "text": [
      "Model: \"sequential_4\"\n",
      "_________________________________________________________________\n",
      "Layer (type)                 Output Shape              Param #   \n",
      "=================================================================\n",
      "dense_16 (Dense)             (None, 1)                 2         \n",
      "_________________________________________________________________\n",
      "dense_17 (Dense)             (None, 1)                 2         \n",
      "=================================================================\n",
      "Total params: 4\n",
      "Trainable params: 4\n",
      "Non-trainable params: 0\n",
      "_________________________________________________________________\n"
     ]
    }
   ],
   "source": [
    "modelo.summary()"
   ]
  },
  {
   "cell_type": "markdown",
   "metadata": {},
   "source": [
    "## Definir treinamento"
   ]
  },
  {
   "cell_type": "code",
   "execution_count": 102,
   "metadata": {},
   "outputs": [],
   "source": [
    "modelo.compile(optimizer='sgd', loss='mse')"
   ]
  },
  {
   "cell_type": "code",
   "execution_count": 107,
   "metadata": {},
   "outputs": [
    {
     "name": "stdout",
     "output_type": "stream",
     "text": [
      "Epoch 1/4\n",
      "13/13 [==============================] - 0s 679us/step - loss: 0.0083\n",
      "Epoch 2/4\n",
      "13/13 [==============================] - 0s 704us/step - loss: 0.0082\n",
      "Epoch 3/4\n",
      "13/13 [==============================] - 0s 734us/step - loss: 0.0079\n",
      "Epoch 4/4\n",
      "13/13 [==============================] - 0s 722us/step - loss: 0.0077\n"
     ]
    }
   ],
   "source": [
    "historico = modelo.fit(x, y, batch_size=2, epochs=4)"
   ]
  },
  {
   "cell_type": "code",
   "execution_count": 126,
   "metadata": {},
   "outputs": [],
   "source": [
    "mse_treino = historico.history[\"loss\"][-1]"
   ]
  },
  {
   "cell_type": "code",
   "execution_count": 108,
   "metadata": {},
   "outputs": [
    {
     "data": {
      "text/plain": [
       "array([[0.1509608 ],\n",
       "       [0.17906144],\n",
       "       [0.20716208],\n",
       "       [0.23526272],\n",
       "       [0.26336336],\n",
       "       [0.291464  ],\n",
       "       [0.31956464],\n",
       "       [0.34766525],\n",
       "       [0.37576592],\n",
       "       [0.40386653],\n",
       "       [0.4319672 ],\n",
       "       [0.46006787],\n",
       "       [0.48816848],\n",
       "       [0.5162691 ],\n",
       "       [0.54436976],\n",
       "       [0.5724704 ],\n",
       "       [0.60057104],\n",
       "       [0.6286717 ],\n",
       "       [0.6567724 ],\n",
       "       [0.6848729 ],\n",
       "       [0.7129736 ],\n",
       "       [0.74107426],\n",
       "       [0.76917493],\n",
       "       [0.79727554],\n",
       "       [0.82537615]], dtype=float32)"
      ]
     },
     "execution_count": 108,
     "metadata": {},
     "output_type": "execute_result"
    }
   ],
   "source": [
    "modelo.predict(x)"
   ]
  },
  {
   "cell_type": "markdown",
   "metadata": {},
   "source": [
    "### Fazer teste"
   ]
  },
  {
   "cell_type": "code",
   "execution_count": 111,
   "metadata": {},
   "outputs": [],
   "source": [
    "x_teste = np.arange(0.5,1.0,0.02)\n",
    "\n",
    "y_teste = 2 * x_teste"
   ]
  },
  {
   "cell_type": "code",
   "execution_count": 112,
   "metadata": {},
   "outputs": [
    {
     "data": {
      "text/plain": [
       "array([[0.8534768 ],\n",
       "       [0.88157743],\n",
       "       [0.9096781 ],\n",
       "       [0.9377787 ],\n",
       "       [0.9658794 ],\n",
       "       [0.99398005],\n",
       "       [1.0220807 ],\n",
       "       [1.0501813 ],\n",
       "       [1.078282  ],\n",
       "       [1.1063826 ],\n",
       "       [1.1344832 ],\n",
       "       [1.162584  ],\n",
       "       [1.1906844 ],\n",
       "       [1.218785  ],\n",
       "       [1.2468857 ],\n",
       "       [1.2749864 ],\n",
       "       [1.303087  ],\n",
       "       [1.3311877 ],\n",
       "       [1.3592885 ],\n",
       "       [1.3873891 ],\n",
       "       [1.4154896 ],\n",
       "       [1.4435903 ],\n",
       "       [1.4716909 ],\n",
       "       [1.4997915 ],\n",
       "       [1.5278922 ]], dtype=float32)"
      ]
     },
     "execution_count": 112,
     "metadata": {},
     "output_type": "execute_result"
    }
   ],
   "source": [
    "y_predito = modelo.predict(x_teste)"
   ]
  },
  {
   "cell_type": "code",
   "execution_count": 127,
   "metadata": {},
   "outputs": [
    {
     "name": "stdout",
     "output_type": "stream",
     "text": [
      "1/1 [==============================] - 0s 669us/step - loss: 0.0911\n"
     ]
    }
   ],
   "source": [
    "mse_teste = modelo.evaluate(x=x_teste, y=y_teste)"
   ]
  },
  {
   "cell_type": "code",
   "execution_count": 129,
   "metadata": {},
   "outputs": [
    {
     "name": "stdout",
     "output_type": "stream",
     "text": [
      "0.007684569340199232\n",
      "0.0910663828253746\n"
     ]
    },
    {
     "data": {
      "text/plain": [
       "0.0910663828253746"
      ]
     },
     "execution_count": 129,
     "metadata": {},
     "output_type": "execute_result"
    }
   ],
   "source": [
    "print(mse_treino)\n",
    "print(mse_teste)"
   ]
  },
  {
   "cell_type": "code",
   "execution_count": 156,
   "metadata": {},
   "outputs": [
    {
     "data": {
      "text/plain": [
       "56"
      ]
     },
     "execution_count": 156,
     "metadata": {},
     "output_type": "execute_result"
    }
   ],
   "source": [
    "sys.getsizeof(modelo)"
   ]
  },
  {
   "cell_type": "code",
   "execution_count": null,
   "metadata": {},
   "outputs": [],
   "source": []
  }
 ],
 "metadata": {
  "kernelspec": {
   "display_name": "curso_openvino",
   "language": "python",
   "name": "curso_openvino"
  },
  "language_info": {
   "codemirror_mode": {
    "name": "ipython",
    "version": 3
   },
   "file_extension": ".py",
   "mimetype": "text/x-python",
   "name": "python",
   "nbconvert_exporter": "python",
   "pygments_lexer": "ipython3",
   "version": "3.6.9"
  }
 },
 "nbformat": 4,
 "nbformat_minor": 4
}
