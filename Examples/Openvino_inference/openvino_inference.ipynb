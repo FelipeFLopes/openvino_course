{
 "cells": [
  {
   "cell_type": "markdown",
   "metadata": {},
   "source": [
    "# Utilizar o openvino para inferencia"
   ]
  },
  {
   "cell_type": "code",
   "execution_count": null,
   "metadata": {},
   "outputs": [],
   "source": [
    "from __future__ import print_function\n",
    "import os\n",
    "import sys\n",
    "\n",
    "import cv2\n",
    "import numpy as np\n",
    "from openvino.inference_engine import IECore"
   ]
  },
  {
   "cell_type": "code",
   "execution_count": null,
   "metadata": {},
   "outputs": [],
   "source": [
    "images_folder = \"images\"\n",
    "images_path = [os.path.join(images_folder, image) for image in os.listdir(images_folder)]\n",
    "BATCH_SIZE = 1"
   ]
  },
  {
   "cell_type": "code",
   "execution_count": null,
   "metadata": {},
   "outputs": [],
   "source": [
    "model_xml = \"converted_model/saved_model.xml\"\n",
    "model_bin = \"converted_model/saved_model.bin\"\n",
    "\n",
    "print(\"Creating Inference Engine\")\n",
    "ie = IECore()\n",
    "\n",
    "# Read IR\n",
    "print(f\"Loading network files:{model_xml, model_bin}\")\n",
    "net = ie.read_network(model=model_xml, weights=model_bin)\n",
    "\n",
    "assert len(net.input_info.keys()) == 1, \"Sample supports only single input topologies\"\n",
    "assert len(net.outputs) == 1, \"Sample supports only single output topologies\"\n",
    "\n",
    "print(\"Preparing input blobs\")\n",
    "input_blob = next(iter(net.input_info))\n",
    "out_blob = next(iter(net.outputs))\n",
    "net.batch_size = BATCH_SIZE\n"
   ]
  },
  {
   "cell_type": "code",
   "execution_count": null,
   "metadata": {},
   "outputs": [],
   "source": [
    "# Read and pre-process input images\n",
    "n, c, h, w = net.input_info[input_blob].input_data.shape\n",
    "\n",
    "def correct_image(image_path):\n",
    "    image = cv2.imread(image_path)\n",
    "    image = cv2.resize(image, (w, h))\n",
    "    image = image.transpose((2, 0, 1))  # Change data layout from HWC to CHW\n",
    "    \n",
    "    return image\n",
    "       \n",
    "\n",
    "images = [correct_image(image_path) for image_path in images_path]\n",
    "\n",
    "    \n",
    "print(f\"Batch size is {n}\")\n",
    "\n",
    "# Loading model to the plugin\n",
    "print(\"Loading model to the plugin\")\n",
    "exec_net = ie.load_network(network=net, device_name=\"CPU\")\n",
    "\n",
    "# Start sync inference\n",
    "print(\"Starting inference in synchronous mode\")\n",
    "\n",
    "res = []\n",
    "\n",
    "for image in images:\n",
    "    res.append(exec_net.infer(inputs={input_blob: image})[out_blob])\n",
    "\n",
    "\n",
    "# Processing output blob\n",
    "print(\"Processing output blob\")\n",
    "\n",
    "labels_map = None\n",
    "\n",
    "classid_str = \"classid\"\n",
    "probability_str = \"probability\"\n",
    "for i, probs in enumerate(res):\n",
    "    probs = np.squeeze(probs)\n",
    "    \n",
    "    if type(probs) != list:\n",
    "        probs = [probs]\n",
    "\n",
    "    top_ind = np.argsort(probs)[-1:][::-1]\n",
    "    print(f\"Image {images_path[i]}\\n\")\n",
    "    print(classid_str, probability_str)\n",
    "    print(\"{} {}\".format('-' * len(classid_str), '-' * len(probability_str)))\n",
    "    for id in top_ind:\n",
    "        det_label = labels_map[id] if labels_map else \"{}\".format(id)\n",
    "        label_length = len(det_label)\n",
    "        space_num_before = (len(classid_str) - label_length) // 2\n",
    "        space_num_after = len(classid_str) - (space_num_before + label_length) + 2\n",
    "        space_num_before_prob = (len(probability_str) - len(str(probs[id]))) // 2\n",
    "        print(\"{}{}{}{}{:.7f}\".format(' ' * space_num_before, det_label,\n",
    "                                      ' ' * space_num_after, ' ' * space_num_before_prob,\n",
    "                                      probs[id]))"
   ]
  }
 ],
 "metadata": {
  "kernelspec": {
   "display_name": "Python 3",
   "language": "python",
   "name": "python3"
  },
  "language_info": {
   "codemirror_mode": {
    "name": "ipython",
    "version": 3
   },
   "file_extension": ".py",
   "mimetype": "text/x-python",
   "name": "python",
   "nbconvert_exporter": "python",
   "pygments_lexer": "ipython3",
   "version": "3.6.9"
  }
 },
 "nbformat": 4,
 "nbformat_minor": 4
}
